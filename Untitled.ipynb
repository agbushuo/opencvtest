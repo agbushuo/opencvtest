{
 "cells": [
  {
   "cell_type": "code",
   "execution_count": 18,
   "id": "dce09dfc-41a8-44a6-b65c-f7ba992eb8d2",
   "metadata": {},
   "outputs": [],
   "source": [
    "import numpy as np\n",
    "import cv2 as cv\n",
    "import matplotlib as plt\n",
    "img1=cv.imread(\"poker.jpg\")\n",
    "img2=cv.imread(\"opencv_logo.jpg\")"
   ]
  },
  {
   "cell_type": "code",
   "execution_count": 19,
   "id": "91c7432a-e3e5-42b7-9363-34bba0b5a3c5",
   "metadata": {},
   "outputs": [],
   "source": [
    "rows,cols,channels = img2.shape\n",
    "roi = img1[0:rows,0:cols]"
   ]
  },
  {
   "cell_type": "code",
   "execution_count": 20,
   "id": "b8e4a05d-5f20-4285-ae32-d29a97724541",
   "metadata": {},
   "outputs": [],
   "source": [
    "img2gray = cv.cvtColor(img2,cv.COLOR_BGR2GRAY)\n",
    "ret,mask=cv.threshold(img2gray,10,255,cv.THRESH_BINARY)\n",
    "mask_inv = cv.bitwise_not(mask)"
   ]
  },
  {
   "cell_type": "code",
   "execution_count": 21,
   "id": "809bfc7e-1914-4d45-9134-4d5092dc20f2",
   "metadata": {},
   "outputs": [],
   "source": [
    "img1_bg = cv.bitwise_and(roi,roi,mask = mask_inv)"
   ]
  },
  {
   "cell_type": "code",
   "execution_count": 22,
   "id": "c3b9f72c-761a-40e3-9973-38400a4d5f59",
   "metadata": {},
   "outputs": [],
   "source": [
    "img2_fg = cv.bitwise_and(img2,img2,mask = mask)"
   ]
  },
  {
   "cell_type": "code",
   "execution_count": 23,
   "id": "3f470c25-5031-4103-ab9c-53edadde8d9b",
   "metadata": {},
   "outputs": [],
   "source": [
    "dst = cv.add(img1_bg,img2_fg)\n",
    "img1[0:rows,0:cols]=dst"
   ]
  },
  {
   "cell_type": "code",
   "execution_count": 24,
   "id": "d58aef5c-8ef3-4d8b-97a3-bb025892f8fb",
   "metadata": {},
   "outputs": [],
   "source": [
    "cv.imshow('res',img1)"
   ]
  },
  {
   "cell_type": "code",
   "execution_count": null,
   "id": "63719d64-f4d6-4a4c-907e-b8ecf8a9f659",
   "metadata": {},
   "outputs": [],
   "source": []
  }
 ],
 "metadata": {
  "kernelspec": {
   "display_name": "opcvenvdemo",
   "language": "python",
   "name": "opcvenvdemo"
  },
  "language_info": {
   "codemirror_mode": {
    "name": "ipython",
    "version": 3
   },
   "file_extension": ".py",
   "mimetype": "text/x-python",
   "name": "python",
   "nbconvert_exporter": "python",
   "pygments_lexer": "ipython3",
   "version": "3.10.14"
  }
 },
 "nbformat": 4,
 "nbformat_minor": 5
}
