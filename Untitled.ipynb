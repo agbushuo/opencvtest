{
 "cells": [
  {
   "cell_type": "code",
   "execution_count": null,
   "id": "8d85a4f0-83d0-45e7-8583-66378112399d",
   "metadata": {},
   "outputs": [],
   "source": []
  }
 ],
 "metadata": {
  "kernelspec": {
   "display_name": "opcvenvdemo",
   "language": "python",
   "name": "opcvenvdemo"
  },
  "language_info": {
   "codemirror_mode": {
    "name": "ipython",
    "version": 3
   },
   "file_extension": ".py",
   "mimetype": "text/x-python",
   "name": "python",
   "nbconvert_exporter": "python",
   "pygments_lexer": "ipython3",
   "version": "3.10.14"
  }
 },
 "nbformat": 4,
 "nbformat_minor": 5
}
